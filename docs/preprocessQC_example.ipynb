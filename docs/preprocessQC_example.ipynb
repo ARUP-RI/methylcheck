{
 "cells": [
  {
   "cell_type": "code",
   "execution_count": 12,
   "metadata": {},
   "outputs": [],
   "source": [
    "# add directory of function to path\n",
    "import sys\n",
    "sys.path.append(\"/Users/nrigby/GitHub/methQC/methQC/\")\n",
    "sys.path.append(\"/Users/nrigby/GitHub/methpype/methpype/\")\n",
    "\n",
    "# from methpype\n",
    "import import_utils as io\n",
    "import rg_channel_set as rgset\n",
    "import preprocess as preprocess\n",
    "import postprocess as postprocess\n",
    "\n",
    "# from methQC\n",
    "import preprocessQC as preQC\n",
    "\n",
    "# ignore warnings for now\n",
    "import warnings\n",
    "warnings.filterwarnings('ignore')"
   ]
  },
  {
   "cell_type": "code",
   "execution_count": 13,
   "metadata": {},
   "outputs": [
    {
     "data": {
      "text/html": [
       "<div>\n",
       "<style scoped>\n",
       "    .dataframe tbody tr th:only-of-type {\n",
       "        vertical-align: middle;\n",
       "    }\n",
       "\n",
       "    .dataframe tbody tr th {\n",
       "        vertical-align: top;\n",
       "    }\n",
       "\n",
       "    .dataframe thead th {\n",
       "        text-align: right;\n",
       "    }\n",
       "</style>\n",
       "<table border=\"1\" class=\"dataframe\">\n",
       "  <thead>\n",
       "    <tr style=\"text-align: right;\">\n",
       "      <th></th>\n",
       "      <th>GSM_ID</th>\n",
       "      <th>Sample_Name</th>\n",
       "      <th>Slide</th>\n",
       "      <th>Array</th>\n",
       "      <th>Basename</th>\n",
       "    </tr>\n",
       "  </thead>\n",
       "  <tbody>\n",
       "    <tr>\n",
       "      <th>0</th>\n",
       "      <td>GSM1711360</td>\n",
       "      <td>AdultLiver1</td>\n",
       "      <td>9247377093</td>\n",
       "      <td>R02C01</td>\n",
       "      <td>/Users/nrigby/GitHub/methQC/docs/example_data/...</td>\n",
       "    </tr>\n",
       "    <tr>\n",
       "      <th>1</th>\n",
       "      <td>GSM1711361</td>\n",
       "      <td>AdultLiver2</td>\n",
       "      <td>9247377093</td>\n",
       "      <td>R03C01</td>\n",
       "      <td>/Users/nrigby/GitHub/methQC/docs/example_data/...</td>\n",
       "    </tr>\n",
       "    <tr>\n",
       "      <th>2</th>\n",
       "      <td>GSM1711362</td>\n",
       "      <td>AdultLiver3</td>\n",
       "      <td>9247377093</td>\n",
       "      <td>R06C02</td>\n",
       "      <td>/Users/nrigby/GitHub/methQC/docs/example_data/...</td>\n",
       "    </tr>\n",
       "    <tr>\n",
       "      <th>3</th>\n",
       "      <td>GSM1711363</td>\n",
       "      <td>FetalLiver1</td>\n",
       "      <td>9247377085</td>\n",
       "      <td>R04C02</td>\n",
       "      <td>/Users/nrigby/GitHub/methQC/docs/example_data/...</td>\n",
       "    </tr>\n",
       "    <tr>\n",
       "      <th>4</th>\n",
       "      <td>GSM1711364</td>\n",
       "      <td>FetalLiver2</td>\n",
       "      <td>9247377093</td>\n",
       "      <td>R05C01</td>\n",
       "      <td>/Users/nrigby/GitHub/methQC/docs/example_data/...</td>\n",
       "    </tr>\n",
       "    <tr>\n",
       "      <th>5</th>\n",
       "      <td>GSM1711365</td>\n",
       "      <td>FetalLiver3</td>\n",
       "      <td>9247377093</td>\n",
       "      <td>R02C02</td>\n",
       "      <td>/Users/nrigby/GitHub/methQC/docs/example_data/...</td>\n",
       "    </tr>\n",
       "  </tbody>\n",
       "</table>\n",
       "</div>"
      ],
      "text/plain": [
       "       GSM_ID  Sample_Name       Slide   Array  \\\n",
       "0  GSM1711360  AdultLiver1  9247377093  R02C01   \n",
       "1  GSM1711361  AdultLiver2  9247377093  R03C01   \n",
       "2  GSM1711362  AdultLiver3  9247377093  R06C02   \n",
       "3  GSM1711363  FetalLiver1  9247377085  R04C02   \n",
       "4  GSM1711364  FetalLiver2  9247377093  R05C01   \n",
       "5  GSM1711365  FetalLiver3  9247377093  R02C02   \n",
       "\n",
       "                                            Basename  \n",
       "0  /Users/nrigby/GitHub/methQC/docs/example_data/...  \n",
       "1  /Users/nrigby/GitHub/methQC/docs/example_data/...  \n",
       "2  /Users/nrigby/GitHub/methQC/docs/example_data/...  \n",
       "3  /Users/nrigby/GitHub/methQC/docs/example_data/...  \n",
       "4  /Users/nrigby/GitHub/methQC/docs/example_data/...  \n",
       "5  /Users/nrigby/GitHub/methQC/docs/example_data/...  "
      ]
     },
     "execution_count": 13,
     "metadata": {},
     "output_type": "execute_result"
    }
   ],
   "source": [
    "# read in the sample sheet for the experiment\n",
    "baseDir = \"/Users/nrigby/GitHub/methQC/docs/example_data/GSE69852//\"\n",
    "sheet = io.read_sample_sheet(baseDir)\n",
    "sheet"
   ]
  },
  {
   "cell_type": "code",
   "execution_count": 14,
   "metadata": {},
   "outputs": [
    {
     "name": "stdout",
     "output_type": "stream",
     "text": [
      "Reading IDAT file 1 of 12: /Users/nrigby/GitHub/methQC/docs/example_data/GSE69852//GSM1711360_9247377093_R02C01_Grn.idat\n",
      "Reading IDAT file 2 of 12: /Users/nrigby/GitHub/methQC/docs/example_data/GSE69852//GSM1711360_9247377093_R02C01_Red.idat\n",
      "Reading IDAT file 3 of 12: /Users/nrigby/GitHub/methQC/docs/example_data/GSE69852//GSM1711361_9247377093_R03C01_Grn.idat\n",
      "Reading IDAT file 4 of 12: /Users/nrigby/GitHub/methQC/docs/example_data/GSE69852//GSM1711361_9247377093_R03C01_Red.idat\n",
      "Reading IDAT file 5 of 12: /Users/nrigby/GitHub/methQC/docs/example_data/GSE69852//GSM1711362_9247377093_R06C02_Grn.idat\n",
      "Reading IDAT file 6 of 12: /Users/nrigby/GitHub/methQC/docs/example_data/GSE69852//GSM1711362_9247377093_R06C02_Red.idat\n",
      "Reading IDAT file 7 of 12: /Users/nrigby/GitHub/methQC/docs/example_data/GSE69852//GSM1711363_9247377085_R04C02_Grn.idat\n",
      "Reading IDAT file 8 of 12: /Users/nrigby/GitHub/methQC/docs/example_data/GSE69852//GSM1711363_9247377085_R04C02_Red.idat\n",
      "Reading IDAT file 9 of 12: /Users/nrigby/GitHub/methQC/docs/example_data/GSE69852//GSM1711364_9247377093_R05C01_Grn.idat\n",
      "Reading IDAT file 10 of 12: /Users/nrigby/GitHub/methQC/docs/example_data/GSE69852//GSM1711364_9247377093_R05C01_Red.idat\n",
      "Reading IDAT file 11 of 12: /Users/nrigby/GitHub/methQC/docs/example_data/GSE69852//GSM1711365_9247377093_R02C02_Grn.idat\n",
      "Reading IDAT file 12 of 12: /Users/nrigby/GitHub/methQC/docs/example_data/GSE69852//GSM1711365_9247377093_R02C02_Red.idat\n",
      "Determining array type and reading manifest file.\n"
     ]
    }
   ],
   "source": [
    "# create an rg channel set object, using data from the sample sheet\n",
    "RGset = rgset.createRGChannelSet(sheet,custom_manifest=False)"
   ]
  },
  {
   "cell_type": "code",
   "execution_count": 15,
   "metadata": {},
   "outputs": [
    {
     "name": "stdout",
     "output_type": "stream",
     "text": [
      "TypeI and TypeII addresses obtained from manifest.\n",
      "Red and green means obtained from RGChannelSet\n",
      "Processing mean values for 9247377093_R02C02. (1/6)\n",
      "Processing mean values for 9247377093_R05C01. (2/6)\n",
      "Processing mean values for 9247377085_R04C02. (3/6)\n",
      "Processing mean values for 9247377093_R03C01. (4/6)\n",
      "Processing mean values for 9247377093_R06C02. (5/6)\n",
      "Processing mean values for 9247377093_R02C01. (6/6)\n"
     ]
    }
   ],
   "source": [
    "methylated,unmethylated = preprocess.preprocessRaw(RGset)"
   ]
  },
  {
   "cell_type": "code",
   "execution_count": 16,
   "metadata": {},
   "outputs": [
    {
     "data": {
      "text/html": [
       "<div>\n",
       "<style scoped>\n",
       "    .dataframe tbody tr th:only-of-type {\n",
       "        vertical-align: middle;\n",
       "    }\n",
       "\n",
       "    .dataframe tbody tr th {\n",
       "        vertical-align: top;\n",
       "    }\n",
       "\n",
       "    .dataframe thead th {\n",
       "        text-align: right;\n",
       "    }\n",
       "</style>\n",
       "<table border=\"1\" class=\"dataframe\">\n",
       "  <thead>\n",
       "    <tr style=\"text-align: right;\">\n",
       "      <th></th>\n",
       "      <th>Name</th>\n",
       "      <th>9247377093_R02C02</th>\n",
       "      <th>9247377093_R05C01</th>\n",
       "      <th>9247377085_R04C02</th>\n",
       "      <th>9247377093_R03C01</th>\n",
       "      <th>9247377093_R06C02</th>\n",
       "      <th>9247377093_R02C01</th>\n",
       "    </tr>\n",
       "  </thead>\n",
       "  <tbody>\n",
       "    <tr>\n",
       "      <th>0</th>\n",
       "      <td>cg00035864</td>\n",
       "      <td>1321</td>\n",
       "      <td>1948</td>\n",
       "      <td>2580</td>\n",
       "      <td>2094</td>\n",
       "      <td>2737</td>\n",
       "      <td>1742</td>\n",
       "    </tr>\n",
       "    <tr>\n",
       "      <th>1</th>\n",
       "      <td>cg00061679</td>\n",
       "      <td>5797</td>\n",
       "      <td>6330</td>\n",
       "      <td>6486</td>\n",
       "      <td>4032</td>\n",
       "      <td>6157</td>\n",
       "      <td>4456</td>\n",
       "    </tr>\n",
       "    <tr>\n",
       "      <th>2</th>\n",
       "      <td>cg00063477</td>\n",
       "      <td>5050</td>\n",
       "      <td>6897</td>\n",
       "      <td>6299</td>\n",
       "      <td>6024</td>\n",
       "      <td>6497</td>\n",
       "      <td>5416</td>\n",
       "    </tr>\n",
       "    <tr>\n",
       "      <th>3</th>\n",
       "      <td>cg00121626</td>\n",
       "      <td>2962</td>\n",
       "      <td>5340</td>\n",
       "      <td>4351</td>\n",
       "      <td>3414</td>\n",
       "      <td>3516</td>\n",
       "      <td>4726</td>\n",
       "    </tr>\n",
       "    <tr>\n",
       "      <th>4</th>\n",
       "      <td>cg00223952</td>\n",
       "      <td>605</td>\n",
       "      <td>817</td>\n",
       "      <td>751</td>\n",
       "      <td>915</td>\n",
       "      <td>1059</td>\n",
       "      <td>890</td>\n",
       "    </tr>\n",
       "  </tbody>\n",
       "</table>\n",
       "</div>"
      ],
      "text/plain": [
       "         Name  9247377093_R02C02  9247377093_R05C01  9247377085_R04C02  \\\n",
       "0  cg00035864               1321               1948               2580   \n",
       "1  cg00061679               5797               6330               6486   \n",
       "2  cg00063477               5050               6897               6299   \n",
       "3  cg00121626               2962               5340               4351   \n",
       "4  cg00223952                605                817                751   \n",
       "\n",
       "   9247377093_R03C01  9247377093_R06C02  9247377093_R02C01  \n",
       "0               2094               2737               1742  \n",
       "1               4032               6157               4456  \n",
       "2               6024               6497               5416  \n",
       "3               3414               3516               4726  \n",
       "4                915               1059                890  "
      ]
     },
     "execution_count": 16,
     "metadata": {},
     "output_type": "execute_result"
    }
   ],
   "source": [
    "methylated.head()"
   ]
  },
  {
   "cell_type": "code",
   "execution_count": 17,
   "metadata": {},
   "outputs": [
    {
     "data": {
      "text/html": [
       "<div>\n",
       "<style scoped>\n",
       "    .dataframe tbody tr th:only-of-type {\n",
       "        vertical-align: middle;\n",
       "    }\n",
       "\n",
       "    .dataframe tbody tr th {\n",
       "        vertical-align: top;\n",
       "    }\n",
       "\n",
       "    .dataframe thead th {\n",
       "        text-align: right;\n",
       "    }\n",
       "</style>\n",
       "<table border=\"1\" class=\"dataframe\">\n",
       "  <thead>\n",
       "    <tr style=\"text-align: right;\">\n",
       "      <th></th>\n",
       "      <th>Name</th>\n",
       "      <th>9247377093_R02C02</th>\n",
       "      <th>9247377093_R05C01</th>\n",
       "      <th>9247377085_R04C02</th>\n",
       "      <th>9247377093_R03C01</th>\n",
       "      <th>9247377093_R06C02</th>\n",
       "      <th>9247377093_R02C01</th>\n",
       "    </tr>\n",
       "  </thead>\n",
       "  <tbody>\n",
       "    <tr>\n",
       "      <th>0</th>\n",
       "      <td>cg00035864</td>\n",
       "      <td>2862</td>\n",
       "      <td>2547</td>\n",
       "      <td>2712</td>\n",
       "      <td>2412</td>\n",
       "      <td>2478</td>\n",
       "      <td>2799</td>\n",
       "    </tr>\n",
       "    <tr>\n",
       "      <th>1</th>\n",
       "      <td>cg00061679</td>\n",
       "      <td>2758</td>\n",
       "      <td>2928</td>\n",
       "      <td>3128</td>\n",
       "      <td>3151</td>\n",
       "      <td>3417</td>\n",
       "      <td>3491</td>\n",
       "    </tr>\n",
       "    <tr>\n",
       "      <th>2</th>\n",
       "      <td>cg00063477</td>\n",
       "      <td>354</td>\n",
       "      <td>492</td>\n",
       "      <td>441</td>\n",
       "      <td>476</td>\n",
       "      <td>362</td>\n",
       "      <td>441</td>\n",
       "    </tr>\n",
       "    <tr>\n",
       "      <th>3</th>\n",
       "      <td>cg00121626</td>\n",
       "      <td>3406</td>\n",
       "      <td>3820</td>\n",
       "      <td>4361</td>\n",
       "      <td>3074</td>\n",
       "      <td>3117</td>\n",
       "      <td>3040</td>\n",
       "    </tr>\n",
       "    <tr>\n",
       "      <th>4</th>\n",
       "      <td>cg00223952</td>\n",
       "      <td>5747</td>\n",
       "      <td>6061</td>\n",
       "      <td>6697</td>\n",
       "      <td>5963</td>\n",
       "      <td>6045</td>\n",
       "      <td>6145</td>\n",
       "    </tr>\n",
       "  </tbody>\n",
       "</table>\n",
       "</div>"
      ],
      "text/plain": [
       "         Name  9247377093_R02C02  9247377093_R05C01  9247377085_R04C02  \\\n",
       "0  cg00035864               2862               2547               2712   \n",
       "1  cg00061679               2758               2928               3128   \n",
       "2  cg00063477                354                492                441   \n",
       "3  cg00121626               3406               3820               4361   \n",
       "4  cg00223952               5747               6061               6697   \n",
       "\n",
       "   9247377093_R03C01  9247377093_R06C02  9247377093_R02C01  \n",
       "0               2412               2478               2799  \n",
       "1               3151               3417               3491  \n",
       "2                476                362                441  \n",
       "3               3074               3117               3040  \n",
       "4               5963               6045               6145  "
      ]
     },
     "execution_count": 17,
     "metadata": {},
     "output_type": "execute_result"
    }
   ],
   "source": [
    "unmethylated.head()"
   ]
  },
  {
   "cell_type": "code",
   "execution_count": 18,
   "metadata": {},
   "outputs": [
    {
     "data": {
      "text/plain": [
       "'IlluminaHumanMethylation450k'"
      ]
     },
     "execution_count": 18,
     "metadata": {},
     "output_type": "execute_result"
    }
   ],
   "source": [
    "RGset.array"
   ]
  },
  {
   "cell_type": "code",
   "execution_count": 23,
   "metadata": {},
   "outputs": [],
   "source": [
    "filteroptions450k = pd.read_csv('../methQC/450k_polymorphic_crossRxtve_probes.csv.gz')\n",
    "filteroptionsEPIC = pd.read_csv('../methQC/EPIC_polymorphic_crossRxtve_probes.csv.gz')"
   ]
  },
  {
   "cell_type": "code",
   "execution_count": 25,
   "metadata": {
    "scrolled": true
   },
   "outputs": [
    {
     "data": {
      "text/plain": [
       "Potential_CrossHybridizing             173793\n",
       "Polymorphic: rs unknown                100398\n",
       "Author_Recommended_GeneralPurpose       99360\n",
       "Mapping_reasons                         63483\n",
       "Polymorphic: .                           2660\n",
       "ColorChannel_Switching                    306\n",
       "Extension_Inconsistent_ColorChannel       100\n",
       "Polymorphic: rs532884597                    4\n",
       "Polymorphic: rs3217089                      3\n",
       "Polymorphic: rs140441755                    3\n",
       "Polymorphic: rs539461738                    2\n",
       "Polymorphic: rs148196794                    2\n",
       "Polymorphic: rs532114113                    2\n",
       "Polymorphic: rs556171400                    2\n",
       "Polymorphic: rs544550883                    2\n",
       "Polymorphic: rs112274047                    2\n",
       "Polymorphic: rs368617086                    2\n",
       "Polymorphic: rs547364473                    2\n",
       "Polymorphic: rs569937985                    2\n",
       "Polymorphic: rs146260357                    2\n",
       "Polymorphic: rs569631349                    2\n",
       "Polymorphic: rs573565004                    2\n",
       "Polymorphic: rs114674755                    2\n",
       "Polymorphic: rs201248307                    2\n",
       "Polymorphic: rs113620982                    2\n",
       "Polymorphic: rs554632402                    2\n",
       "Polymorphic: rs190885491                    2\n",
       "Polymorphic: rs190094550                    2\n",
       "Polymorphic: rs564607815                    2\n",
       "Polymorphic: rs182542348                    2\n",
       "                                        ...  \n",
       "Polymorphic: rs557567650                    1\n",
       "Polymorphic: rs186204790                    1\n",
       "Polymorphic: rs535541984                    1\n",
       "Polymorphic: rs536157308                    1\n",
       "Polymorphic: rs144631591                    1\n",
       "Polymorphic: rs191511257                    1\n",
       "Polymorphic: rs563188085                    1\n",
       "Polymorphic: rs538501471                    1\n",
       "Polymorphic: rs564256471                    1\n",
       "Polymorphic: rs551272100                    1\n",
       "Polymorphic: rs73118912                     1\n",
       "Polymorphic: rs183351794                    1\n",
       "Polymorphic: rs191170510                    1\n",
       "Polymorphic: rs554818543                    1\n",
       "Polymorphic: rs184509456                    1\n",
       "Polymorphic: rs573151636                    1\n",
       "Polymorphic: rs534573203                    1\n",
       "Polymorphic: rs147444889                    1\n",
       "Polymorphic: rs138545052                    1\n",
       "Polymorphic: rs181453955                    1\n",
       "Polymorphic: rs568146504                    1\n",
       "Polymorphic: rs541755251                    1\n",
       "Polymorphic: rs201827066                    1\n",
       "Polymorphic: rs191485252                    1\n",
       "Polymorphic: rs373612136                    1\n",
       "Polymorphic: rs143763127                    1\n",
       "Polymorphic: rs549883295                    1\n",
       "Polymorphic: rs185021644                    1\n",
       "Polymorphic: rs76006912                     1\n",
       "Polymorphic: rs529757641                    1\n",
       "Name: Reason, Length: 337544, dtype: int64"
      ]
     },
     "execution_count": 25,
     "metadata": {},
     "output_type": "execute_result"
    }
   ],
   "source": [
    "filteroptionsEPIC.Reason.value_counts()"
   ]
  },
  {
   "cell_type": "code",
   "execution_count": 26,
   "metadata": {},
   "outputs": [
    {
     "data": {
      "text/plain": [
       "Zhou_etal_2016         393230\n",
       "McCartney_etal_2016    384537\n",
       "Name: ShortCitation, dtype: int64"
      ]
     },
     "execution_count": 26,
     "metadata": {},
     "output_type": "execute_result"
    }
   ],
   "source": [
    "filteroptionsEPIC.ShortCitation.value_counts()"
   ]
  },
  {
   "cell_type": "code",
   "execution_count": 27,
   "metadata": {},
   "outputs": [
    {
     "ename": "SyntaxError",
     "evalue": "invalid syntax (<ipython-input-27-39d057fbcd49>, line 2)",
     "output_type": "error",
     "traceback": [
      "\u001b[0;36m  File \u001b[0;32m\"<ipython-input-27-39d057fbcd49>\"\u001b[0;36m, line \u001b[0;32m2\u001b[0m\n\u001b[0;31m    include_Price_450k = True\u001b[0m\n\u001b[0m                     ^\u001b[0m\n\u001b[0;31mSyntaxError\u001b[0m\u001b[0;31m:\u001b[0m invalid syntax\n"
     ]
    }
   ],
   "source": [
    "def createProbeFilterList(include_Chen_450k = True,\n",
    "                         include_Price_450k = True,\n",
    "                         include_Zhou_450k = True,\n",
    "                         include_Naeem_450k = True,\n",
    "                         include_Daca-Roszak_450k = True,\n",
    "                         include_CrossHybrids_450k = True,\n",
    "                         include_Repeats_450k = True,\n",
    "                         include_PolyTargets_450k = True,\n",
    "                         include_PolySequences_450k = True,\n",
    "                         include_Zhou_RecommendedGP_450k = True,\n",
    "                         include_Mapping_450k = True,\n",
    "                         include_ColorChannelSwitch_450k = True, \n",
    "                         include_ExtInconsistent_450k = True,\n",
    "                          \n",
    "                         include_Zhou_EPIC = True,\n",
    "                         include_McCartney_EPIC = True,\n",
    "                         include_CrossHybrids_EPIC = True,\n",
    "                        include_Polymorphic_EPIC = True,\n",
    "                          include_Zhou_RecommendedGP_EPIC = True,\n",
    "                          include_Mapping_EPIC = True,\n",
    "                          include_ColorChannelSwitch_EPIC = True,\n",
    "                          include_ExtInconsistent_EPIC = True\n",
    "                         ):\n",
    "    "
   ]
  },
  {
   "cell_type": "code",
   "execution_count": null,
   "metadata": {},
   "outputs": [],
   "source": []
  }
 ],
 "metadata": {
  "kernelspec": {
   "display_name": "Python 3",
   "language": "python",
   "name": "python3"
  },
  "language_info": {
   "codemirror_mode": {
    "name": "ipython",
    "version": 3
   },
   "file_extension": ".py",
   "mimetype": "text/x-python",
   "name": "python",
   "nbconvert_exporter": "python",
   "pygments_lexer": "ipython3",
   "version": "3.7.0"
  }
 },
 "nbformat": 4,
 "nbformat_minor": 2
}
